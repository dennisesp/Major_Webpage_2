{
 "cells": [
  {
   "cell_type": "markdown",
   "id": "0b426a92-4dd3-45d0-96da-d56994ef0d36",
   "metadata": {
    "tags": []
   },
   "source": [
    "---\n",
    "title: \"Africana Studies\"\n",
    "format:\n",
    "  html:\n",
    "    toc: true\n",
    "execute:\n",
    "  echo: true\n",
    "---"
   ]
  },
  {
   "cell_type": "markdown",
   "id": "e76849a0-c293-4df0-a70b-54fb2f6f86bc",
   "metadata": {},
   "source": [
    "<div class=\"text-box\">\n",
    "\n",
    "## African-Diasporic Majors\n",
    "    \n",
    "Below you'll find the breakdown of earned doctorates in Afro-Diasporic Majors \n",
    "    \n",
    "The following graphs display the majors for the following CIP majors from the IPEDS survey of earned doctorates. \n",
    "    \n",
    "1) African-American/Black Studies \n",
    "     \n",
    "2) African Languages, Literatures, and Linguistics.\n",
    "    \n",
    "3) African Studies. \n",
    "</div>"
   ]
  },
  {
   "cell_type": "markdown",
   "id": "b1c79a7d-3d20-4231-8697-c25fdfa4cf04",
   "metadata": {},
   "source": [
    "<div>"
   ]
  },
  {
   "cell_type": "code",
   "execution_count": 33,
   "id": "258a5f20-266c-488b-bb71-5c1911c1ea71",
   "metadata": {
    "tags": []
   },
   "outputs": [],
   "source": [
    "#| echo: false\n",
    "import pandas as pd\n",
    "import plotly.express as px"
   ]
  },
  {
   "cell_type": "code",
   "execution_count": 34,
   "id": "33c85944-f2d7-4d95-90bc-122d5ff33beb",
   "metadata": {
    "tags": []
   },
   "outputs": [],
   "source": [
    "#| echo: false\n",
    "\n",
    "df=pd.read_csv('Concatenated_Data.csv')"
   ]
  },
  {
   "cell_type": "markdown",
   "id": "9c49246d-da12-47ca-bfc5-56d19007cd43",
   "metadata": {},
   "source": [
    "<div class=\"text-box\">\n",
    "\n",
    "## Racial Breakdown Per Afro-Diasporic Major\n",
    "    \n",
    "    "
   ]
  },
  {
   "cell_type": "code",
   "execution_count": 38,
   "id": "68b8875e-8438-4821-833d-8340ebb2a4f8",
   "metadata": {
    "tags": []
   },
   "outputs": [
    {
     "data": {
      "text/html": [
       "\n",
       "<style>\n",
       "  #altair-viz-41f88cb4a5df414d9f656f7068fb5ff7.vega-embed {\n",
       "    width: 100%;\n",
       "    display: flex;\n",
       "  }\n",
       "\n",
       "  #altair-viz-41f88cb4a5df414d9f656f7068fb5ff7.vega-embed details,\n",
       "  #altair-viz-41f88cb4a5df414d9f656f7068fb5ff7.vega-embed details summary {\n",
       "    position: relative;\n",
       "  }\n",
       "</style>\n",
       "<div id=\"altair-viz-41f88cb4a5df414d9f656f7068fb5ff7\"></div>\n",
       "<script type=\"text/javascript\">\n",
       "  var VEGA_DEBUG = (typeof VEGA_DEBUG == \"undefined\") ? {} : VEGA_DEBUG;\n",
       "  (function(spec, embedOpt){\n",
       "    let outputDiv = document.currentScript.previousElementSibling;\n",
       "    if (outputDiv.id !== \"altair-viz-41f88cb4a5df414d9f656f7068fb5ff7\") {\n",
       "      outputDiv = document.getElementById(\"altair-viz-41f88cb4a5df414d9f656f7068fb5ff7\");\n",
       "    }\n",
       "    const paths = {\n",
       "      \"vega\": \"https://cdn.jsdelivr.net/npm/vega@5?noext\",\n",
       "      \"vega-lib\": \"https://cdn.jsdelivr.net/npm/vega-lib?noext\",\n",
       "      \"vega-lite\": \"https://cdn.jsdelivr.net/npm/vega-lite@5.14.1?noext\",\n",
       "      \"vega-embed\": \"https://cdn.jsdelivr.net/npm/vega-embed@6?noext\",\n",
       "    };\n",
       "\n",
       "    function maybeLoadScript(lib, version) {\n",
       "      var key = `${lib.replace(\"-\", \"\")}_version`;\n",
       "      return (VEGA_DEBUG[key] == version) ?\n",
       "        Promise.resolve(paths[lib]) :\n",
       "        new Promise(function(resolve, reject) {\n",
       "          var s = document.createElement('script');\n",
       "          document.getElementsByTagName(\"head\")[0].appendChild(s);\n",
       "          s.async = true;\n",
       "          s.onload = () => {\n",
       "            VEGA_DEBUG[key] = version;\n",
       "            return resolve(paths[lib]);\n",
       "          };\n",
       "          s.onerror = () => reject(`Error loading script: ${paths[lib]}`);\n",
       "          s.src = paths[lib];\n",
       "        });\n",
       "    }\n",
       "\n",
       "    function showError(err) {\n",
       "      outputDiv.innerHTML = `<div class=\"error\" style=\"color:red;\">${err}</div>`;\n",
       "      throw err;\n",
       "    }\n",
       "\n",
       "    function displayChart(vegaEmbed) {\n",
       "      vegaEmbed(outputDiv, spec, embedOpt)\n",
       "        .catch(err => showError(`Javascript Error: ${err.message}<br>This usually means there's a typo in your chart specification. See the javascript console for the full traceback.`));\n",
       "    }\n",
       "\n",
       "    if(typeof define === \"function\" && define.amd) {\n",
       "      requirejs.config({paths});\n",
       "      require([\"vega-embed\"], displayChart, err => showError(`Error loading script: ${err.message}`));\n",
       "    } else {\n",
       "      maybeLoadScript(\"vega\", \"5\")\n",
       "        .then(() => maybeLoadScript(\"vega-lite\", \"5.14.1\"))\n",
       "        .then(() => maybeLoadScript(\"vega-embed\", \"6\"))\n",
       "        .catch(showError)\n",
       "        .then(() => displayChart(vegaEmbed));\n",
       "    }\n",
       "  })({\"config\": {\"view\": {\"continuousWidth\": 300, \"continuousHeight\": 300}}, \"data\": {\"name\": \"data-3de855b3bf7c04a45f55ef8f33b6e11a\"}, \"mark\": {\"type\": \"bar\"}, \"encoding\": {\"color\": {\"field\": \"Race and Ethnicity\", \"legend\": null, \"type\": \"nominal\"}, \"tooltip\": [{\"field\": \"Race and Ethnicity\", \"type\": \"nominal\"}, {\"field\": \"Awards/Degrees Conferred\", \"type\": \"quantitative\"}], \"x\": {\"field\": \"Awards/Degrees Conferred\", \"title\": \"Degrees Conferred\", \"type\": \"quantitative\"}, \"y\": {\"field\": \"Race and Ethnicity\", \"sort\": \"-x\", \"title\": \"Race / Ethnicity\", \"type\": \"nominal\"}}, \"height\": 300, \"params\": [{\"name\": \"Major\", \"bind\": {\"input\": \"select\", \"options\": [\"05.0101 - African Studies.\", \"05.0201 - African-American/Black Studies.\", \"16.02 - African Languages, Literatures, and Linguistics.\", \"All Afro-diasporic majors (total)\"], \"name\": \"Select Major: \"}, \"value\": \"All Afro-diasporic majors (total)\"}], \"title\": \"Earned Doctorates in Afro-Diasporic Majors by Race/Ethnicity (2021\\u20132023)\", \"transform\": [{\"filter\": \"(datum.Major === Major)\"}], \"width\": 600, \"$schema\": \"https://vega.github.io/schema/vega-lite/v5.14.1.json\", \"datasets\": {\"data-3de855b3bf7c04a45f55ef8f33b6e11a\": [{\"Major\": \"05.0101 - African Studies.\", \"Race and Ethnicity\": \"Black or African American\", \"Awards/Degrees Conferred\": 13}, {\"Major\": \"05.0101 - African Studies.\", \"Race and Ethnicity\": \"Hispanic or Latino\", \"Awards/Degrees Conferred\": 2}, {\"Major\": \"05.0201 - African-American/Black Studies.\", \"Race and Ethnicity\": \"Asian\", \"Awards/Degrees Conferred\": 2}, {\"Major\": \"05.0201 - African-American/Black Studies.\", \"Race and Ethnicity\": \"Black or African American\", \"Awards/Degrees Conferred\": 63}, {\"Major\": \"05.0201 - African-American/Black Studies.\", \"Race and Ethnicity\": \"Hispanic or Latino\", \"Awards/Degrees Conferred\": 7}, {\"Major\": \"05.0201 - African-American/Black Studies.\", \"Race and Ethnicity\": \"Two or more races\", \"Awards/Degrees Conferred\": 5}, {\"Major\": \"16.02 - African Languages, Literatures, and Linguistics.\", \"Race and Ethnicity\": \"Asian\", \"Awards/Degrees Conferred\": 1}, {\"Major\": \"All Afro-diasporic majors (total)\", \"Race and Ethnicity\": \"Asian\", \"Awards/Degrees Conferred\": 3}, {\"Major\": \"All Afro-diasporic majors (total)\", \"Race and Ethnicity\": \"Black or African American\", \"Awards/Degrees Conferred\": 76}, {\"Major\": \"All Afro-diasporic majors (total)\", \"Race and Ethnicity\": \"Hispanic or Latino\", \"Awards/Degrees Conferred\": 9}, {\"Major\": \"All Afro-diasporic majors (total)\", \"Race and Ethnicity\": \"Two or more races\", \"Awards/Degrees Conferred\": 5}]}}, {\"mode\": \"vega-lite\"});\n",
       "</script>"
      ],
      "text/plain": [
       "alt.Chart(...)"
      ]
     },
     "execution_count": 38,
     "metadata": {},
     "output_type": "execute_result"
    }
   ],
   "source": [
    "#| code-fold: true\n",
    "\n",
    "import pandas as pd\n",
    "import altair as alt\n",
    "\n",
    "# Load and filter the data\n",
    "df = pd.read_csv(\"Concatenated_Data.csv\")\n",
    "\n",
    "race_keep = [\n",
    "    \"Hispanic or Latino\",\n",
    "    \"Black or African American\",\n",
    "    \"American Indian or Alaska Native\",\n",
    "    \"Asian\",\n",
    "    \"Native Hawaiian or Other Pacific Islander\",\n",
    "    \"Two or more races\",\n",
    "]\n",
    "\n",
    "afro_majors = [\n",
    "    \"05.0201 - African-American/Black Studies.\",\n",
    "    \"16.02 - African Languages, Literatures, and Linguistics.\",\n",
    "    \"05.0101 - African Studies.\",\n",
    "]\n",
    "\n",
    "# Filter and aggregate data\n",
    "afro_df = (\n",
    "    df[df[\"Race and Ethnicity\"].isin(race_keep) & df[\"Major\"].isin(afro_majors)]\n",
    "    .groupby([\"Major\", \"Race and Ethnicity\"])[\"Awards/Degrees Conferred\"]\n",
    "    .sum()\n",
    "    .reset_index()\n",
    ")\n",
    "\n",
    "# Add overall row\n",
    "overall = (\n",
    "    afro_df.groupby(\"Race and Ethnicity\")[\"Awards/Degrees Conferred\"]\n",
    "    .sum()\n",
    "    .reset_index()\n",
    ")\n",
    "overall[\"Major\"] = \"All Afro-diasporic majors (total)\"\n",
    "afro_df = pd.concat([afro_df, overall], ignore_index=True)\n",
    "\n",
    "# Fix: Use parameter with transform_filter expression\n",
    "major_dropdown = alt.binding_select(\n",
    "    options=afro_df[\"Major\"].unique().tolist(),\n",
    "    name=\"Select Major: \"\n",
    ")\n",
    "major_param = alt.param(\n",
    "    name=\"Major\",\n",
    "    bind=major_dropdown,\n",
    "    value=\"All Afro-diasporic majors (total)\"\n",
    ")\n",
    "\n",
    "# Correct filter using expression (alt.datum)\n",
    "chart = (\n",
    "    alt.Chart(afro_df)\n",
    "    .add_params(major_param)\n",
    "    .transform_filter(\n",
    "        alt.datum.Major == major_param\n",
    "    )\n",
    "    .mark_bar()\n",
    "    .encode(\n",
    "        x=alt.X(\"Awards/Degrees Conferred:Q\", title=\"Degrees Conferred\"),\n",
    "        y=alt.Y(\"Race and Ethnicity:N\", sort=\"-x\", title=\"Race / Ethnicity\"),\n",
    "        color=alt.Color(\"Race and Ethnicity:N\", legend=None),\n",
    "        tooltip=[\"Race and Ethnicity:N\", \"Awards/Degrees Conferred:Q\"]\n",
    "    )\n",
    "    .properties(\n",
    "        title=\"Earned Doctorates in Afro-Diasporic Majors by Race/Ethnicity (2021–2023)\",\n",
    "        width=600,\n",
    "        height=300\n",
    "    )\n",
    ")\n",
    "\n",
    "chart"
   ]
  },
  {
   "cell_type": "markdown",
   "id": "aec5e412-add8-4ef6-965c-1366b02aefcb",
   "metadata": {
    "tags": []
   },
   "source": [
    "</div>"
   ]
  },
  {
   "cell_type": "markdown",
   "id": "f9bf8304-8f54-40c7-b3c7-2a64c3010fc1",
   "metadata": {
    "tags": []
   },
   "source": [
    "<div class=\"text-box\">"
   ]
  },
  {
   "cell_type": "markdown",
   "id": "48e701e9-e954-4ed0-99a9-8b8853829388",
   "metadata": {},
   "source": [
    "## Gendered Breakdown in Afro-Diasporic Majors"
   ]
  },
  {
   "cell_type": "code",
   "execution_count": 37,
   "id": "ed1a58c5-b46d-4bd6-9cea-f8c96ad098cd",
   "metadata": {},
   "outputs": [
    {
     "data": {
      "text/html": [
       "\n",
       "<style>\n",
       "  #altair-viz-d16804e4f04445e691c9b0a3ecc65614.vega-embed {\n",
       "    width: 100%;\n",
       "    display: flex;\n",
       "  }\n",
       "\n",
       "  #altair-viz-d16804e4f04445e691c9b0a3ecc65614.vega-embed details,\n",
       "  #altair-viz-d16804e4f04445e691c9b0a3ecc65614.vega-embed details summary {\n",
       "    position: relative;\n",
       "  }\n",
       "</style>\n",
       "<div id=\"altair-viz-d16804e4f04445e691c9b0a3ecc65614\"></div>\n",
       "<script type=\"text/javascript\">\n",
       "  var VEGA_DEBUG = (typeof VEGA_DEBUG == \"undefined\") ? {} : VEGA_DEBUG;\n",
       "  (function(spec, embedOpt){\n",
       "    let outputDiv = document.currentScript.previousElementSibling;\n",
       "    if (outputDiv.id !== \"altair-viz-d16804e4f04445e691c9b0a3ecc65614\") {\n",
       "      outputDiv = document.getElementById(\"altair-viz-d16804e4f04445e691c9b0a3ecc65614\");\n",
       "    }\n",
       "    const paths = {\n",
       "      \"vega\": \"https://cdn.jsdelivr.net/npm/vega@5?noext\",\n",
       "      \"vega-lib\": \"https://cdn.jsdelivr.net/npm/vega-lib?noext\",\n",
       "      \"vega-lite\": \"https://cdn.jsdelivr.net/npm/vega-lite@5.14.1?noext\",\n",
       "      \"vega-embed\": \"https://cdn.jsdelivr.net/npm/vega-embed@6?noext\",\n",
       "    };\n",
       "\n",
       "    function maybeLoadScript(lib, version) {\n",
       "      var key = `${lib.replace(\"-\", \"\")}_version`;\n",
       "      return (VEGA_DEBUG[key] == version) ?\n",
       "        Promise.resolve(paths[lib]) :\n",
       "        new Promise(function(resolve, reject) {\n",
       "          var s = document.createElement('script');\n",
       "          document.getElementsByTagName(\"head\")[0].appendChild(s);\n",
       "          s.async = true;\n",
       "          s.onload = () => {\n",
       "            VEGA_DEBUG[key] = version;\n",
       "            return resolve(paths[lib]);\n",
       "          };\n",
       "          s.onerror = () => reject(`Error loading script: ${paths[lib]}`);\n",
       "          s.src = paths[lib];\n",
       "        });\n",
       "    }\n",
       "\n",
       "    function showError(err) {\n",
       "      outputDiv.innerHTML = `<div class=\"error\" style=\"color:red;\">${err}</div>`;\n",
       "      throw err;\n",
       "    }\n",
       "\n",
       "    function displayChart(vegaEmbed) {\n",
       "      vegaEmbed(outputDiv, spec, embedOpt)\n",
       "        .catch(err => showError(`Javascript Error: ${err.message}<br>This usually means there's a typo in your chart specification. See the javascript console for the full traceback.`));\n",
       "    }\n",
       "\n",
       "    if(typeof define === \"function\" && define.amd) {\n",
       "      requirejs.config({paths});\n",
       "      require([\"vega-embed\"], displayChart, err => showError(`Error loading script: ${err.message}`));\n",
       "    } else {\n",
       "      maybeLoadScript(\"vega\", \"5\")\n",
       "        .then(() => maybeLoadScript(\"vega-lite\", \"5.14.1\"))\n",
       "        .then(() => maybeLoadScript(\"vega-embed\", \"6\"))\n",
       "        .catch(showError)\n",
       "        .then(() => displayChart(vegaEmbed));\n",
       "    }\n",
       "  })({\"config\": {\"view\": {\"continuousWidth\": 300, \"continuousHeight\": 300}}, \"data\": {\"name\": \"data-f79118a7486fa27702b763fc005f6e6a\"}, \"mark\": {\"type\": \"arc\"}, \"encoding\": {\"color\": {\"field\": \"Sex\", \"legend\": {\"title\": \"Gender\"}, \"type\": \"nominal\"}, \"theta\": {\"field\": \"Awards/Degrees Conferred\", \"type\": \"quantitative\"}, \"tooltip\": [{\"field\": \"Sex\", \"type\": \"nominal\"}, {\"field\": \"Awards/Degrees Conferred\", \"type\": \"quantitative\"}]}, \"height\": 400, \"title\": \"Gender Breakdown of Earned Doctorates in Afro-Diasporic Majors (2021\\u20132023)\", \"width\": 400, \"$schema\": \"https://vega.github.io/schema/vega-lite/v5.14.1.json\", \"datasets\": {\"data-f79118a7486fa27702b763fc005f6e6a\": [{\"Sex\": \"Female\", \"Awards/Degrees Conferred\": 60}, {\"Sex\": \"Male\", \"Awards/Degrees Conferred\": 43}]}}, {\"mode\": \"vega-lite\"});\n",
       "</script>"
      ],
      "text/plain": [
       "alt.Chart(...)"
      ]
     },
     "execution_count": 37,
     "metadata": {},
     "output_type": "execute_result"
    }
   ],
   "source": [
    "#|code-fold: true\n",
    "import pandas as pd\n",
    "import altair as alt\n",
    "\n",
    "# Load and filter the data\n",
    "df = pd.read_csv(\"Concatenated_Data.csv\")\n",
    "\n",
    "afro_majors = [\n",
    "    \"05.0201 - African-American/Black Studies.\",\n",
    "    \"16.02 - African Languages, Literatures, and Linguistics.\",\n",
    "    \"05.0101 - African Studies.\",\n",
    "]\n",
    "\n",
    "# Filter to only Afro-Diasporic majors\n",
    "gender_df = df[df[\"Major\"].isin(afro_majors)]\n",
    "\n",
    "# Aggregate total awards by gender\n",
    "gender_agg = (\n",
    "    gender_df.groupby(\"Sex\")[\"Awards/Degrees Conferred\"]\n",
    "    .sum()\n",
    "    .reset_index()\n",
    ")\n",
    "\n",
    "# Create pie chart\n",
    "pie_chart = alt.Chart(gender_agg).mark_arc().encode(\n",
    "    theta=alt.Theta(field=\"Awards/Degrees Conferred\", type=\"quantitative\"),\n",
    "    color=alt.Color(field=\"Sex\", type=\"nominal\", legend=alt.Legend(title=\"Gender\")),\n",
    "    tooltip=[\"Sex\", \"Awards/Degrees Conferred\"]\n",
    ").properties(\n",
    "    title=\"Gender Breakdown of Earned Doctorates in Afro-Diasporic Majors (2021–2023)\",\n",
    "    width=400,\n",
    "    height=400\n",
    ")\n",
    "\n",
    "pie_chart\n"
   ]
  },
  {
   "cell_type": "code",
   "execution_count": null,
   "id": "f18e67de-06f6-488b-a5c0-55cedf3a24ac",
   "metadata": {},
   "outputs": [],
   "source": []
  },
  {
   "cell_type": "code",
   "execution_count": null,
   "id": "01621ef9-fe2b-4692-958e-968dda30c37c",
   "metadata": {},
   "outputs": [],
   "source": []
  }
 ],
 "metadata": {
  "kernelspec": {
   "display_name": "Python 3 (ipykernel)",
   "language": "python",
   "name": "python3"
  },
  "language_info": {
   "codemirror_mode": {
    "name": "ipython",
    "version": 3
   },
   "file_extension": ".py",
   "mimetype": "text/x-python",
   "name": "python",
   "nbconvert_exporter": "python",
   "pygments_lexer": "ipython3",
   "version": "3.10.12"
  }
 },
 "nbformat": 4,
 "nbformat_minor": 5
}
